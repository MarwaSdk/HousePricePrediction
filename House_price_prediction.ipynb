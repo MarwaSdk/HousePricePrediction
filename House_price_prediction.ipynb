{
 "cells": [
  {
   "cell_type": "markdown",
   "id": "05e0f550",
   "metadata": {},
   "source": [
    "# Create a S3 bucket"
   ]
  },
  {
   "cell_type": "code",
   "execution_count": 6,
   "id": "22d26d60",
   "metadata": {},
   "outputs": [
    {
     "name": "stdout",
     "output_type": "stream",
     "text": [
      "the bucket has been created successfully\n"
     ]
    }
   ],
   "source": [
    "import boto3\n",
    "s3=boto3.client(\"s3\")\n",
    "bucket_name=\"HousePricePrediction\"\n",
    "try:\n",
    "    s3.create_bucket(Bucket=bucket_name)\n",
    "    print(\"the bucket has been created successfully\")\n",
    "except Exception as e:\n",
    "    print(\"there is an error :\",e)"
   ]
  },
  {
   "cell_type": "markdown",
   "id": "ade4c3cd",
   "metadata": {},
   "source": [
    "# Extract,Load,Transform dataset\n"
   ]
  },
  {
   "cell_type": "code",
   "execution_count": 5,
   "id": "d520d29c",
   "metadata": {},
   "outputs": [],
   "source": [
    "import pandas as pd\n",
    "House_dataset=pd.read_csv(\"s3://HousePricePrediction/xgboost-as-a-built-in-algo/train/train.csv\")\n"
   ]
  },
  {
   "cell_type": "code",
   "execution_count": 6,
   "id": "015d6513",
   "metadata": {},
   "outputs": [],
   "source": [
    "#Remove the id column\n",
    "House_dataset=House_dataset.drop(axis=1,columns=['Id'])\n",
    "Columns=House_dataset.columns"
   ]
  },
  {
   "cell_type": "code",
   "execution_count": 7,
   "id": "c63c7f64",
   "metadata": {},
   "outputs": [],
   "source": [
    "#Choosing features to work with\n",
    "features=['HouseStyle','YearBuilt','Heating','CentralAir','Electrical','FullBath',\n",
    "          'OverallQual','YearRemodAdd','TotalBsmtSF','GrLivArea',\n",
    "          'TotRmsAbvGrd','GarageCars','GarageArea']"
   ]
  },
  {
   "cell_type": "code",
   "execution_count": 8,
   "id": "4622e684",
   "metadata": {},
   "outputs": [
    {
     "name": "stdout",
     "output_type": "stream",
     "text": [
      "HouseStyle      0\n",
      "YearBuilt       0\n",
      "Heating         0\n",
      "CentralAir      0\n",
      "Electrical      1\n",
      "FullBath        0\n",
      "OverallQual     0\n",
      "YearRemodAdd    0\n",
      "TotalBsmtSF     0\n",
      "GrLivArea       0\n",
      "TotRmsAbvGrd    0\n",
      "GarageCars      0\n",
      "GarageArea      0\n",
      "dtype: int64\n"
     ]
    }
   ],
   "source": [
    "print(House_dataset[features].isnull().sum()) \n",
    "House_dataset['Electrical'].fillna('SBrkr',inplace=True) #Replacing the null value with the most used value "
   ]
  },
  {
   "cell_type": "markdown",
   "id": "3d4aae18",
   "metadata": {},
   "source": [
    "# New dataset with the most important features"
   ]
  },
  {
   "cell_type": "code",
   "execution_count": 9,
   "id": "229ed8db",
   "metadata": {},
   "outputs": [],
   "source": [
    "House_dataset=House_dataset[['SalePrice','HouseStyle','YearBuilt','Heating','CentralAir','Electrical','FullBath','OverallQual',\n",
    "                             'YearRemodAdd','TotalBsmtSF','GrLivArea','TotRmsAbvGrd','GarageCars','GarageArea']]\n"
   ]
  },
  {
   "cell_type": "code",
   "execution_count": 11,
   "id": "6535b286",
   "metadata": {},
   "outputs": [],
   "source": [
    "#Spliting dataset into test and train datasets\n",
    "from sklearn.model_selection import train_test_split\n",
    "train_dataset,test_dataset=train_test_split(House_dataset,train_size=0.8,test_size=0.2, random_state=2)"
   ]
  },
  {
   "cell_type": "code",
   "execution_count": null,
   "id": "8a2f508e",
   "metadata": {},
   "outputs": [],
   "source": [
    "#Transforming categorical variables into numerical variables\n",
    "from sklearn.preprocessing import LabelEncoder\n",
    "for df in [train_dataset,test_dataset]:\n",
    "    for i in ['HouseStyle','Heating','CentralAir','Electrical']:\n",
    "        label_encoder=LabelEncoder().fit(df[i])\n",
    "        df[i]=label_encoder.transform(df[i])"
   ]
  },
  {
   "cell_type": "markdown",
   "id": "0c24e054",
   "metadata": {},
   "source": [
    "# Upload the new dataset to the S3 bucket"
   ]
  },
  {
   "cell_type": "code",
   "execution_count": 27,
   "id": "af924c9b",
   "metadata": {},
   "outputs": [],
   "source": [
    "train_path=\"s3://stockpricepredictionbucket/xgboost-as-a-built-in-algo/train/train.csv\"\n",
    "test_path=\"s3://stockpricepredictionbucket/xgboost-as-a-built-in-algo/test/test.csv\"\n",
    "train_dataset.to_csv(train_path,header=False,index=False)\n",
    "test_dataset.to_csv(test_path,header=False,index=False)"
   ]
  },
  {
   "cell_type": "markdown",
   "id": "63db51b7",
   "metadata": {},
   "source": [
    "# Set a path and upload dataset to S3 bucket"
   ]
  },
  {
   "cell_type": "code",
   "execution_count": null,
   "id": "c7c2a8f3",
   "metadata": {},
   "outputs": [],
   "source": [
    "import os\n",
    "import csv\n",
    "from sagemaker.inputs import TrainingInput\n",
    "prefix = 'xgboost-as-a-built-in-algo'\n",
    "content_type=\"csv\"\n",
    "train_input=TrainingInput(\"s3://{}/{}/{}/\".format(bucket_name,prefix,'train'),content_type=content_type)\n",
    "test_input=TrainingInput(\"s3://{}/{}/{}/\".format(bucket_name,prefix,'test'),content_type=content_type)\n",
    "#Reading file from S3 bucket\n",
    "obj = s3.get_object(Bucket=bucket_name, Key='xgboost-as-a-built-in-algo/train/train.csv')\n",
    "data = obj['Body'].read().decode('utf-8').splitlines()\n",
    "records = csv.reader(data) \n",
    "for eachRecord in records: #6\n",
    "    print(eachRecord)\n"
   ]
  },
  {
   "cell_type": "markdown",
   "id": "1fa52e3e",
   "metadata": {},
   "source": [
    "# Build XGBoost Model "
   ]
  },
  {
   "cell_type": "code",
   "execution_count": 29,
   "id": "e4b5897b",
   "metadata": {},
   "outputs": [],
   "source": [
    "import sagemaker\n",
    "from sagemaker import image_uris\n",
    "import sagemaker.estimator \n",
    "from sagemaker.session import Session\n"
   ]
  },
  {
   "cell_type": "code",
   "execution_count": 37,
   "id": "7ac442b8",
   "metadata": {},
   "outputs": [
    {
     "data": {
      "text/plain": [
       "'683313688378.dkr.ecr.us-east-1.amazonaws.com/sagemaker-xgboost:1.2-2'"
      ]
     },
     "metadata": {},
     "output_type": "display_data"
    }
   ],
   "source": [
    "xgboost_container=image_uris.retrieve('xgboost',boto3.Session().region_name,'1.2-2')\n",
    "display(xgboost_container)"
   ]
  },
  {
   "cell_type": "code",
   "execution_count": 42,
   "id": "0de65601",
   "metadata": {},
   "outputs": [],
   "source": [
    "#Hyperparameters\n",
    "hyperparameters={\n",
    "    \"max_depth\":\"5\",\n",
    "    \"eta\":\"0.2\",\n",
    "    \"gamma\":\"4\",\n",
    "    \"min_child_weight\":\"6\",\n",
    "    \"subsample\":\"0.7\",\n",
    "    \"objective\":\"reg:squarederror\",\n",
    "    \"early_stopping_rounds\":10,\n",
    "    \"num_round\":1000\n",
    "}"
   ]
  },
  {
   "cell_type": "markdown",
   "id": "7891b3fb",
   "metadata": {},
   "source": [
    "# Set an output path where the trainig model will be saved"
   ]
  },
  {
   "cell_type": "code",
   "execution_count": 43,
   "id": "9f929a8b",
   "metadata": {},
   "outputs": [],
   "source": [
    "model_path=\"s3://{}/{}/{}/\".format(bucket_name,prefix,\"model\")"
   ]
  },
  {
   "cell_type": "markdown",
   "id": "9efc8978",
   "metadata": {},
   "source": [
    "# constructing a SageMaker estimator"
   ]
  },
  {
   "cell_type": "code",
   "execution_count": 44,
   "id": "09240133",
   "metadata": {},
   "outputs": [],
   "source": [
    "estimator=sagemaker.estimator.Estimator(image_uri=xgboost_container,\n",
    "                            hyperparameters=hyperparameters,\n",
    "                            role=sagemaker.get_execution_role(),\n",
    "                            instance_count=1,\n",
    "                            instance_type='ml.m4.xlarge',\n",
    "                            volume_size=5,\n",
    "                            output_path=model_path,\n",
    "                            use_spot_instances=True,\n",
    "                            max_run=300,\n",
    "                            max_wait=600\n",
    "                               \n",
    ")"
   ]
  },
  {
   "cell_type": "markdown",
   "id": "5f839459",
   "metadata": {},
   "source": [
    "# Execute the XGBoost training job"
   ]
  },
  {
   "cell_type": "code",
   "execution_count": null,
   "id": "d76c8ba9",
   "metadata": {},
   "outputs": [],
   "source": [
    "estimator.fit({'train':train_input,'validation':test_input})"
   ]
  },
  {
   "cell_type": "markdown",
   "id": "2ffe5bef",
   "metadata": {},
   "source": [
    "# Deploy XGBoost model as an endpoint"
   ]
  },
  {
   "cell_type": "code",
   "execution_count": 46,
   "id": "bca962d3",
   "metadata": {},
   "outputs": [
    {
     "name": "stdout",
     "output_type": "stream",
     "text": [
      "---------!"
     ]
    }
   ],
   "source": [
    "from sagemaker.serializers import CSVSerializer\n",
    "xgboost_endpoint=estimator.deploy(initial_instance_count=1,instance_type=\"ml.m4.xlarge\",serializer=CSVSerializer())"
   ]
  },
  {
   "cell_type": "code",
   "execution_count": 47,
   "id": "c5247334",
   "metadata": {},
   "outputs": [
    {
     "data": {
      "text/plain": [
       "'sagemaker-xgboost-2022-08-03-16-46-04-244'"
      ]
     },
     "execution_count": 47,
     "metadata": {},
     "output_type": "execute_result"
    }
   ],
   "source": [
    "xgboost_endpoint.endpoint_name #will be used in the lambda function"
   ]
  },
  {
   "cell_type": "markdown",
   "id": "9d516450",
   "metadata": {},
   "source": []
  },
  {
   "cell_type": "code",
   "execution_count": null,
   "id": "acdf262d",
   "metadata": {},
   "outputs": [],
   "source": []
  },
  {
   "cell_type": "code",
   "execution_count": null,
   "id": "2c954704",
   "metadata": {},
   "outputs": [],
   "source": []
  }
 ],
 "metadata": {
  "kernelspec": {
   "display_name": "conda_python3",
   "language": "python",
   "name": "conda_python3"
  },
  "language_info": {
   "codemirror_mode": {
    "name": "ipython",
    "version": 3
   },
   "file_extension": ".py",
   "mimetype": "text/x-python",
   "name": "python",
   "nbconvert_exporter": "python",
   "pygments_lexer": "ipython3",
   "version": "3.8.12"
  }
 },
 "nbformat": 4,
 "nbformat_minor": 5
}
